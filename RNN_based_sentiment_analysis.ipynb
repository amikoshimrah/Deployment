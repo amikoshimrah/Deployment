{
  "nbformat": 4,
  "nbformat_minor": 0,
  "metadata": {
    "colab": {
      "provenance": [],
      "authorship_tag": "ABX9TyOVdJRB6y3fR1Alf0rGEs82",
      "include_colab_link": true
    },
    "kernelspec": {
      "name": "python3",
      "display_name": "Python 3"
    },
    "language_info": {
      "name": "python"
    }
  },
  "cells": [
    {
      "cell_type": "markdown",
      "metadata": {
        "id": "view-in-github",
        "colab_type": "text"
      },
      "source": [
        "<a href=\"https://colab.research.google.com/github/amikoshimrah/Deployment/blob/main/RNN_based_sentiment_analysis.ipynb\" target=\"_parent\"><img src=\"https://colab.research.google.com/assets/colab-badge.svg\" alt=\"Open In Colab\"/></a>"
      ]
    },
    {
      "cell_type": "markdown",
      "source": [
        "**✅ STEP 1: Setup and Data Preparation**"
      ],
      "metadata": {
        "id": "FWPKavGYgrAR"
      }
    },
    {
      "cell_type": "code",
      "source": [
        "# --- Imports ---\n",
        "import pandas as pd\n",
        "import numpy as np\n",
        "import re\n",
        "from sklearn.model_selection import train_test_split\n",
        "from sklearn.preprocessing import LabelEncoder\n",
        "from sklearn.metrics import classification_report\n",
        "import tensorflow as tf\n",
        "from tensorflow.keras.models import Sequential\n",
        "from tensorflow.keras.layers import Embedding, GlobalAveragePooling1D, Dense, Dropout\n",
        "from tensorflow.keras.preprocessing.text import Tokenizer\n",
        "from tensorflow.keras.preprocessing.sequence import pad_sequences\n",
        "from tensorflow.keras.callbacks import EarlyStopping\n",
        "import matplotlib.pyplot as plt\n"
      ],
      "metadata": {
        "id": "2Zu9CFRsg02S"
      },
      "execution_count": null,
      "outputs": []
    },
    {
      "cell_type": "code",
      "source": [
        "# Load datasets\n",
        "train_data = pd.read_csv('twitter_training.csv', header=None)\n",
        "val_data = pd.read_csv('twitter_validation.csv', header=None)\n",
        "\n",
        "# Assign column names based on dataset format\n",
        "train_data.columns = ['id', 'entity', 'sentiment', 'text']\n",
        "val_data.columns = ['id', 'entity', 'sentiment', 'text']\n"
      ],
      "metadata": {
        "id": "5scUTrRQgcb-"
      },
      "execution_count": null,
      "outputs": []
    },
    {
      "cell_type": "markdown",
      "source": [
        "**✅ STEP 2: Preprocessing and Feature Engineering**"
      ],
      "metadata": {
        "id": "IfAksjDdg_H5"
      }
    },
    {
      "cell_type": "code",
      "source": [
        "# --- Clean Text ---\n",
        "def clean_text(text):\n",
        "    if not isinstance(text, str):\n",
        "        return ''\n",
        "    text = text.lower()\n",
        "    text = re.sub(r\"http\\S+|www\\S+|https\\S+\", '', text, flags=re.MULTILINE)\n",
        "    text = re.sub(r'@\\w+|#\\w+', '', text)\n",
        "    text = re.sub(r\"[^\\w\\s]\", '', text)\n",
        "    return text"
      ],
      "metadata": {
        "id": "4uGnMrzVSuwI"
      },
      "execution_count": null,
      "outputs": []
    },
    {
      "cell_type": "code",
      "source": [
        "# Fill nulls and clean\n",
        "train_data['text'] = train_data['text'].fillna('')\n",
        "val_data['text'] = val_data['text'].fillna('')\n",
        "train_data['clean_text'] = train_data['text'].apply(clean_text)\n",
        "val_data['clean_text'] = val_data['text'].apply(clean_text)"
      ],
      "metadata": {
        "id": "a70yEOk8u_5S"
      },
      "execution_count": null,
      "outputs": []
    },
    {
      "cell_type": "code",
      "source": [
        "# --- Filter Expected Sentiments ---\n",
        "expected_sentiments = ['Positive', 'Neutral', 'Negative']\n",
        "train_data = train_data[train_data['sentiment'].isin(expected_sentiments)]\n",
        "val_data = val_data[val_data['sentiment'].isin(expected_sentiments)]\n"
      ],
      "metadata": {
        "id": "-UtO-BNTotEY"
      },
      "execution_count": null,
      "outputs": []
    },
    {
      "cell_type": "code",
      "source": [
        "# --- Encode Labels ---\n",
        "label_encoder = LabelEncoder()\n",
        "train_data['label'] = label_encoder.fit_transform(train_data['sentiment'])\n",
        "val_data['label'] = label_encoder.transform(val_data['sentiment'])"
      ],
      "metadata": {
        "id": "kBPzfv0smTww",
        "colab": {
          "base_uri": "https://localhost:8080/"
        },
        "outputId": "8d1b84d1-7b8a-4399-d046-31ab4854c397"
      },
      "execution_count": null,
      "outputs": [
        {
          "output_type": "stream",
          "name": "stderr",
          "text": [
            "<ipython-input-6-985157f8f423>:3: SettingWithCopyWarning: \n",
            "A value is trying to be set on a copy of a slice from a DataFrame.\n",
            "Try using .loc[row_indexer,col_indexer] = value instead\n",
            "\n",
            "See the caveats in the documentation: https://pandas.pydata.org/pandas-docs/stable/user_guide/indexing.html#returning-a-view-versus-a-copy\n",
            "  train_data['label'] = label_encoder.fit_transform(train_data['sentiment'])\n",
            "<ipython-input-6-985157f8f423>:4: SettingWithCopyWarning: \n",
            "A value is trying to be set on a copy of a slice from a DataFrame.\n",
            "Try using .loc[row_indexer,col_indexer] = value instead\n",
            "\n",
            "See the caveats in the documentation: https://pandas.pydata.org/pandas-docs/stable/user_guide/indexing.html#returning-a-view-versus-a-copy\n",
            "  val_data['label'] = label_encoder.transform(val_data['sentiment'])\n"
          ]
        }
      ]
    },
    {
      "cell_type": "code",
      "source": [
        "# --- Tokenize and Pad ---\n",
        "tokenizer = Tokenizer(num_words=65000, oov_token='<OOV>')\n",
        "tokenizer.fit_on_texts(train_data['clean_text'])\n",
        "\n",
        "train_sequences = tokenizer.texts_to_sequences(train_data['clean_text'])\n",
        "val_sequences = tokenizer.texts_to_sequences(val_data['clean_text'])\n",
        "\n",
        "max_length = 100\n",
        "train_padded = pad_sequences(train_sequences, maxlen=max_length, padding='post', truncating='post')\n",
        "val_padded = pad_sequences(val_sequences, maxlen=max_length, padding='post', truncating='post')\n"
      ],
      "metadata": {
        "id": "4Y5glrxHhIW4"
      },
      "execution_count": null,
      "outputs": []
    },
    {
      "cell_type": "code",
      "source": [
        "# --- Train-Test Split ---\n",
        "X_train, X_test, y_train, y_test = train_test_split(\n",
        "    train_padded,\n",
        "    train_data['label'],\n",
        "    test_size=0.2,\n",
        "    random_state=42,\n",
        "    stratify=train_data['label']\n",
        ")\n",
        "print(X_train.shape)\n",
        "print(X_test.shape)\n",
        "print(y_train.shape)\n",
        "print(y_test.shape)"
      ],
      "metadata": {
        "id": "jKQIQ-Bvg5hK",
        "colab": {
          "base_uri": "https://localhost:8080/"
        },
        "outputId": "6f3cf68c-6193-4f14-cefa-e71d2350f016"
      },
      "execution_count": null,
      "outputs": [
        {
          "output_type": "stream",
          "name": "stdout",
          "text": [
            "(49353, 100)\n",
            "(12339, 100)\n",
            "(49353,)\n",
            "(12339,)\n"
          ]
        }
      ]
    },
    {
      "cell_type": "code",
      "source": [
        "# Convert to NumPy arrays with valid dtypes\n",
        "X_train = np.array(X_train, dtype='int32')\n",
        "X_test = np.array(X_test, dtype='int32')\n",
        "y_train = np.array(y_train, dtype='int32')\n",
        "y_test = np.array(y_test, dtype='int32')"
      ],
      "metadata": {
        "id": "HWVTsWeUt4yi"
      },
      "execution_count": null,
      "outputs": []
    },
    {
      "cell_type": "markdown",
      "source": [
        "**✅ STEP 3: Build RNN Model**"
      ],
      "metadata": {
        "id": "SG__ThDxhf1u"
      }
    },
    {
      "cell_type": "code",
      "source": [
        "# --- Build ANN Model ---\n",
        "model = Sequential([\n",
        "    Embedding(input_dim=65000, output_dim=16, input_length=max_length),\n",
        "    GlobalAveragePooling1D(),\n",
        "    Dropout(0.5),\n",
        "    Dense(16, activation='relu'),\n",
        "    Dense(3, activation='softmax')  # 3 sentiment classes\n",
        "])\n",
        "\n",
        "model.compile(loss='sparse_categorical_crossentropy', optimizer='adam', metrics=['accuracy'])\n",
        "model.build(input_shape=(None, max_length))\n",
        "model.summary()"
      ],
      "metadata": {
        "colab": {
          "base_uri": "https://localhost:8080/",
          "height": 338
        },
        "id": "wrmooez3z_d1",
        "outputId": "1320c110-4a7d-48e4-9e57-3014507e7b8e"
      },
      "execution_count": null,
      "outputs": [
        {
          "output_type": "stream",
          "name": "stderr",
          "text": [
            "/usr/local/lib/python3.11/dist-packages/keras/src/layers/core/embedding.py:90: UserWarning: Argument `input_length` is deprecated. Just remove it.\n",
            "  warnings.warn(\n"
          ]
        },
        {
          "output_type": "display_data",
          "data": {
            "text/plain": [
              "\u001b[1mModel: \"sequential\"\u001b[0m\n"
            ],
            "text/html": [
              "<pre style=\"white-space:pre;overflow-x:auto;line-height:normal;font-family:Menlo,'DejaVu Sans Mono',consolas,'Courier New',monospace\"><span style=\"font-weight: bold\">Model: \"sequential\"</span>\n",
              "</pre>\n"
            ]
          },
          "metadata": {}
        },
        {
          "output_type": "display_data",
          "data": {
            "text/plain": [
              "┏━━━━━━━━━━━━━━━━━━━━━━━━━━━━━━━━━┳━━━━━━━━━━━━━━━━━━━━━━━━┳━━━━━━━━━━━━━━━┓\n",
              "┃\u001b[1m \u001b[0m\u001b[1mLayer (type)                   \u001b[0m\u001b[1m \u001b[0m┃\u001b[1m \u001b[0m\u001b[1mOutput Shape          \u001b[0m\u001b[1m \u001b[0m┃\u001b[1m \u001b[0m\u001b[1m      Param #\u001b[0m\u001b[1m \u001b[0m┃\n",
              "┡━━━━━━━━━━━━━━━━━━━━━━━━━━━━━━━━━╇━━━━━━━━━━━━━━━━━━━━━━━━╇━━━━━━━━━━━━━━━┩\n",
              "│ embedding (\u001b[38;5;33mEmbedding\u001b[0m)           │ (\u001b[38;5;45mNone\u001b[0m, \u001b[38;5;34m100\u001b[0m, \u001b[38;5;34m16\u001b[0m)        │     \u001b[38;5;34m1,040,000\u001b[0m │\n",
              "├─────────────────────────────────┼────────────────────────┼───────────────┤\n",
              "│ global_average_pooling1d        │ (\u001b[38;5;45mNone\u001b[0m, \u001b[38;5;34m16\u001b[0m)             │             \u001b[38;5;34m0\u001b[0m │\n",
              "│ (\u001b[38;5;33mGlobalAveragePooling1D\u001b[0m)        │                        │               │\n",
              "├─────────────────────────────────┼────────────────────────┼───────────────┤\n",
              "│ dropout (\u001b[38;5;33mDropout\u001b[0m)               │ (\u001b[38;5;45mNone\u001b[0m, \u001b[38;5;34m16\u001b[0m)             │             \u001b[38;5;34m0\u001b[0m │\n",
              "├─────────────────────────────────┼────────────────────────┼───────────────┤\n",
              "│ dense (\u001b[38;5;33mDense\u001b[0m)                   │ (\u001b[38;5;45mNone\u001b[0m, \u001b[38;5;34m16\u001b[0m)             │           \u001b[38;5;34m272\u001b[0m │\n",
              "├─────────────────────────────────┼────────────────────────┼───────────────┤\n",
              "│ dense_1 (\u001b[38;5;33mDense\u001b[0m)                 │ (\u001b[38;5;45mNone\u001b[0m, \u001b[38;5;34m3\u001b[0m)              │            \u001b[38;5;34m51\u001b[0m │\n",
              "└─────────────────────────────────┴────────────────────────┴───────────────┘\n"
            ],
            "text/html": [
              "<pre style=\"white-space:pre;overflow-x:auto;line-height:normal;font-family:Menlo,'DejaVu Sans Mono',consolas,'Courier New',monospace\">┏━━━━━━━━━━━━━━━━━━━━━━━━━━━━━━━━━┳━━━━━━━━━━━━━━━━━━━━━━━━┳━━━━━━━━━━━━━━━┓\n",
              "┃<span style=\"font-weight: bold\"> Layer (type)                    </span>┃<span style=\"font-weight: bold\"> Output Shape           </span>┃<span style=\"font-weight: bold\">       Param # </span>┃\n",
              "┡━━━━━━━━━━━━━━━━━━━━━━━━━━━━━━━━━╇━━━━━━━━━━━━━━━━━━━━━━━━╇━━━━━━━━━━━━━━━┩\n",
              "│ embedding (<span style=\"color: #0087ff; text-decoration-color: #0087ff\">Embedding</span>)           │ (<span style=\"color: #00d7ff; text-decoration-color: #00d7ff\">None</span>, <span style=\"color: #00af00; text-decoration-color: #00af00\">100</span>, <span style=\"color: #00af00; text-decoration-color: #00af00\">16</span>)        │     <span style=\"color: #00af00; text-decoration-color: #00af00\">1,040,000</span> │\n",
              "├─────────────────────────────────┼────────────────────────┼───────────────┤\n",
              "│ global_average_pooling1d        │ (<span style=\"color: #00d7ff; text-decoration-color: #00d7ff\">None</span>, <span style=\"color: #00af00; text-decoration-color: #00af00\">16</span>)             │             <span style=\"color: #00af00; text-decoration-color: #00af00\">0</span> │\n",
              "│ (<span style=\"color: #0087ff; text-decoration-color: #0087ff\">GlobalAveragePooling1D</span>)        │                        │               │\n",
              "├─────────────────────────────────┼────────────────────────┼───────────────┤\n",
              "│ dropout (<span style=\"color: #0087ff; text-decoration-color: #0087ff\">Dropout</span>)               │ (<span style=\"color: #00d7ff; text-decoration-color: #00d7ff\">None</span>, <span style=\"color: #00af00; text-decoration-color: #00af00\">16</span>)             │             <span style=\"color: #00af00; text-decoration-color: #00af00\">0</span> │\n",
              "├─────────────────────────────────┼────────────────────────┼───────────────┤\n",
              "│ dense (<span style=\"color: #0087ff; text-decoration-color: #0087ff\">Dense</span>)                   │ (<span style=\"color: #00d7ff; text-decoration-color: #00d7ff\">None</span>, <span style=\"color: #00af00; text-decoration-color: #00af00\">16</span>)             │           <span style=\"color: #00af00; text-decoration-color: #00af00\">272</span> │\n",
              "├─────────────────────────────────┼────────────────────────┼───────────────┤\n",
              "│ dense_1 (<span style=\"color: #0087ff; text-decoration-color: #0087ff\">Dense</span>)                 │ (<span style=\"color: #00d7ff; text-decoration-color: #00d7ff\">None</span>, <span style=\"color: #00af00; text-decoration-color: #00af00\">3</span>)              │            <span style=\"color: #00af00; text-decoration-color: #00af00\">51</span> │\n",
              "└─────────────────────────────────┴────────────────────────┴───────────────┘\n",
              "</pre>\n"
            ]
          },
          "metadata": {}
        },
        {
          "output_type": "display_data",
          "data": {
            "text/plain": [
              "\u001b[1m Total params: \u001b[0m\u001b[38;5;34m1,040,323\u001b[0m (3.97 MB)\n"
            ],
            "text/html": [
              "<pre style=\"white-space:pre;overflow-x:auto;line-height:normal;font-family:Menlo,'DejaVu Sans Mono',consolas,'Courier New',monospace\"><span style=\"font-weight: bold\"> Total params: </span><span style=\"color: #00af00; text-decoration-color: #00af00\">1,040,323</span> (3.97 MB)\n",
              "</pre>\n"
            ]
          },
          "metadata": {}
        },
        {
          "output_type": "display_data",
          "data": {
            "text/plain": [
              "\u001b[1m Trainable params: \u001b[0m\u001b[38;5;34m1,040,323\u001b[0m (3.97 MB)\n"
            ],
            "text/html": [
              "<pre style=\"white-space:pre;overflow-x:auto;line-height:normal;font-family:Menlo,'DejaVu Sans Mono',consolas,'Courier New',monospace\"><span style=\"font-weight: bold\"> Trainable params: </span><span style=\"color: #00af00; text-decoration-color: #00af00\">1,040,323</span> (3.97 MB)\n",
              "</pre>\n"
            ]
          },
          "metadata": {}
        },
        {
          "output_type": "display_data",
          "data": {
            "text/plain": [
              "\u001b[1m Non-trainable params: \u001b[0m\u001b[38;5;34m0\u001b[0m (0.00 B)\n"
            ],
            "text/html": [
              "<pre style=\"white-space:pre;overflow-x:auto;line-height:normal;font-family:Menlo,'DejaVu Sans Mono',consolas,'Courier New',monospace\"><span style=\"font-weight: bold\"> Non-trainable params: </span><span style=\"color: #00af00; text-decoration-color: #00af00\">0</span> (0.00 B)\n",
              "</pre>\n"
            ]
          },
          "metadata": {}
        }
      ]
    },
    {
      "cell_type": "markdown",
      "source": [
        "**✅ STEP 4: Train the Model**"
      ],
      "metadata": {
        "id": "xSe-oM5_hrfu"
      }
    },
    {
      "cell_type": "code",
      "source": [
        "# --- Train Model with EarlyStopping ---\n",
        "early_stop = EarlyStopping(monitor='val_loss', patience=5, restore_best_weights=True)\n",
        "\n",
        "history = model.fit(\n",
        "    X_train, y_train,\n",
        "    validation_data=(X_test, y_test),\n",
        "    batch_size=256,\n",
        "    epochs=50,\n",
        "    callbacks=[early_stop]\n",
        ")\n",
        "\n"
      ],
      "metadata": {
        "colab": {
          "base_uri": "https://localhost:8080/"
        },
        "id": "j4M4Z5Q-3ru1",
        "outputId": "ec4ac8d6-b3b3-41dd-c601-6d8d9c3a3067"
      },
      "execution_count": null,
      "outputs": [
        {
          "output_type": "stream",
          "name": "stdout",
          "text": [
            "Epoch 1/50\n",
            "\u001b[1m193/193\u001b[0m \u001b[32m━━━━━━━━━━━━━━━━━━━━\u001b[0m\u001b[37m\u001b[0m \u001b[1m6s\u001b[0m 15ms/step - accuracy: 0.3577 - loss: 1.0950 - val_accuracy: 0.4538 - val_loss: 1.0838\n",
            "Epoch 2/50\n",
            "\u001b[1m193/193\u001b[0m \u001b[32m━━━━━━━━━━━━━━━━━━━━\u001b[0m\u001b[37m\u001b[0m \u001b[1m5s\u001b[0m 14ms/step - accuracy: 0.4159 - loss: 1.0751 - val_accuracy: 0.5303 - val_loss: 1.0114\n",
            "Epoch 3/50\n",
            "\u001b[1m193/193\u001b[0m \u001b[32m━━━━━━━━━━━━━━━━━━━━\u001b[0m\u001b[37m\u001b[0m \u001b[1m3s\u001b[0m 18ms/step - accuracy: 0.5421 - loss: 0.9837 - val_accuracy: 0.5915 - val_loss: 0.8899\n",
            "Epoch 4/50\n",
            "\u001b[1m193/193\u001b[0m \u001b[32m━━━━━━━━━━━━━━━━━━━━\u001b[0m\u001b[37m\u001b[0m \u001b[1m4s\u001b[0m 14ms/step - accuracy: 0.6195 - loss: 0.8684 - val_accuracy: 0.6608 - val_loss: 0.8006\n",
            "Epoch 5/50\n",
            "\u001b[1m193/193\u001b[0m \u001b[32m━━━━━━━━━━━━━━━━━━━━\u001b[0m\u001b[37m\u001b[0m \u001b[1m5s\u001b[0m 14ms/step - accuracy: 0.6821 - loss: 0.7771 - val_accuracy: 0.7148 - val_loss: 0.7306\n",
            "Epoch 6/50\n",
            "\u001b[1m193/193\u001b[0m \u001b[32m━━━━━━━━━━━━━━━━━━━━\u001b[0m\u001b[37m\u001b[0m \u001b[1m4s\u001b[0m 19ms/step - accuracy: 0.7163 - loss: 0.7093 - val_accuracy: 0.7332 - val_loss: 0.6765\n",
            "Epoch 7/50\n",
            "\u001b[1m193/193\u001b[0m \u001b[32m━━━━━━━━━━━━━━━━━━━━\u001b[0m\u001b[37m\u001b[0m \u001b[1m4s\u001b[0m 14ms/step - accuracy: 0.7474 - loss: 0.6471 - val_accuracy: 0.7451 - val_loss: 0.6368\n",
            "Epoch 8/50\n",
            "\u001b[1m193/193\u001b[0m \u001b[32m━━━━━━━━━━━━━━━━━━━━\u001b[0m\u001b[37m\u001b[0m \u001b[1m5s\u001b[0m 15ms/step - accuracy: 0.7544 - loss: 0.6128 - val_accuracy: 0.7316 - val_loss: 0.6301\n",
            "Epoch 9/50\n",
            "\u001b[1m193/193\u001b[0m \u001b[32m━━━━━━━━━━━━━━━━━━━━\u001b[0m\u001b[37m\u001b[0m \u001b[1m4s\u001b[0m 18ms/step - accuracy: 0.7835 - loss: 0.5609 - val_accuracy: 0.7279 - val_loss: 0.6248\n",
            "Epoch 10/50\n",
            "\u001b[1m193/193\u001b[0m \u001b[32m━━━━━━━━━━━━━━━━━━━━\u001b[0m\u001b[37m\u001b[0m \u001b[1m3s\u001b[0m 13ms/step - accuracy: 0.7938 - loss: 0.5353 - val_accuracy: 0.7841 - val_loss: 0.5514\n",
            "Epoch 11/50\n",
            "\u001b[1m193/193\u001b[0m \u001b[32m━━━━━━━━━━━━━━━━━━━━\u001b[0m\u001b[37m\u001b[0m \u001b[1m3s\u001b[0m 13ms/step - accuracy: 0.7996 - loss: 0.5145 - val_accuracy: 0.7961 - val_loss: 0.5203\n",
            "Epoch 12/50\n",
            "\u001b[1m193/193\u001b[0m \u001b[32m━━━━━━━━━━━━━━━━━━━━\u001b[0m\u001b[37m\u001b[0m \u001b[1m3s\u001b[0m 13ms/step - accuracy: 0.8186 - loss: 0.4803 - val_accuracy: 0.7962 - val_loss: 0.5218\n",
            "Epoch 13/50\n",
            "\u001b[1m193/193\u001b[0m \u001b[32m━━━━━━━━━━━━━━━━━━━━\u001b[0m\u001b[37m\u001b[0m \u001b[1m6s\u001b[0m 16ms/step - accuracy: 0.8273 - loss: 0.4543 - val_accuracy: 0.7928 - val_loss: 0.5121\n",
            "Epoch 14/50\n",
            "\u001b[1m193/193\u001b[0m \u001b[32m━━━━━━━━━━━━━━━━━━━━\u001b[0m\u001b[37m\u001b[0m \u001b[1m3s\u001b[0m 14ms/step - accuracy: 0.8346 - loss: 0.4396 - val_accuracy: 0.8101 - val_loss: 0.4753\n",
            "Epoch 15/50\n",
            "\u001b[1m193/193\u001b[0m \u001b[32m━━━━━━━━━━━━━━━━━━━━\u001b[0m\u001b[37m\u001b[0m \u001b[1m5s\u001b[0m 15ms/step - accuracy: 0.8475 - loss: 0.4095 - val_accuracy: 0.8258 - val_loss: 0.4501\n",
            "Epoch 16/50\n",
            "\u001b[1m193/193\u001b[0m \u001b[32m━━━━━━━━━━━━━━━━━━━━\u001b[0m\u001b[37m\u001b[0m \u001b[1m4s\u001b[0m 18ms/step - accuracy: 0.8523 - loss: 0.3953 - val_accuracy: 0.8226 - val_loss: 0.4574\n",
            "Epoch 17/50\n",
            "\u001b[1m193/193\u001b[0m \u001b[32m━━━━━━━━━━━━━━━━━━━━\u001b[0m\u001b[37m\u001b[0m \u001b[1m3s\u001b[0m 13ms/step - accuracy: 0.8621 - loss: 0.3719 - val_accuracy: 0.8292 - val_loss: 0.4306\n",
            "Epoch 18/50\n",
            "\u001b[1m193/193\u001b[0m \u001b[32m━━━━━━━━━━━━━━━━━━━━\u001b[0m\u001b[37m\u001b[0m \u001b[1m3s\u001b[0m 13ms/step - accuracy: 0.8675 - loss: 0.3571 - val_accuracy: 0.8214 - val_loss: 0.4484\n",
            "Epoch 19/50\n",
            "\u001b[1m193/193\u001b[0m \u001b[32m━━━━━━━━━━━━━━━━━━━━\u001b[0m\u001b[37m\u001b[0m \u001b[1m5s\u001b[0m 15ms/step - accuracy: 0.8649 - loss: 0.3615 - val_accuracy: 0.8438 - val_loss: 0.4038\n",
            "Epoch 20/50\n",
            "\u001b[1m193/193\u001b[0m \u001b[32m━━━━━━━━━━━━━━━━━━━━\u001b[0m\u001b[37m\u001b[0m \u001b[1m3s\u001b[0m 17ms/step - accuracy: 0.8735 - loss: 0.3368 - val_accuracy: 0.8268 - val_loss: 0.4350\n",
            "Epoch 21/50\n",
            "\u001b[1m193/193\u001b[0m \u001b[32m━━━━━━━━━━━━━━━━━━━━\u001b[0m\u001b[37m\u001b[0m \u001b[1m3s\u001b[0m 14ms/step - accuracy: 0.8787 - loss: 0.3276 - val_accuracy: 0.8444 - val_loss: 0.3967\n",
            "Epoch 22/50\n",
            "\u001b[1m193/193\u001b[0m \u001b[32m━━━━━━━━━━━━━━━━━━━━\u001b[0m\u001b[37m\u001b[0m \u001b[1m3s\u001b[0m 14ms/step - accuracy: 0.8862 - loss: 0.3083 - val_accuracy: 0.8553 - val_loss: 0.3783\n",
            "Epoch 23/50\n",
            "\u001b[1m193/193\u001b[0m \u001b[32m━━━━━━━━━━━━━━━━━━━━\u001b[0m\u001b[37m\u001b[0m \u001b[1m3s\u001b[0m 14ms/step - accuracy: 0.8836 - loss: 0.3075 - val_accuracy: 0.8318 - val_loss: 0.4402\n",
            "Epoch 24/50\n",
            "\u001b[1m193/193\u001b[0m \u001b[32m━━━━━━━━━━━━━━━━━━━━\u001b[0m\u001b[37m\u001b[0m \u001b[1m5s\u001b[0m 14ms/step - accuracy: 0.8804 - loss: 0.3213 - val_accuracy: 0.8429 - val_loss: 0.4016\n",
            "Epoch 25/50\n",
            "\u001b[1m193/193\u001b[0m \u001b[32m━━━━━━━━━━━━━━━━━━━━\u001b[0m\u001b[37m\u001b[0m \u001b[1m3s\u001b[0m 14ms/step - accuracy: 0.8880 - loss: 0.2990 - val_accuracy: 0.7890 - val_loss: 0.5797\n",
            "Epoch 26/50\n",
            "\u001b[1m193/193\u001b[0m \u001b[32m━━━━━━━━━━━━━━━━━━━━\u001b[0m\u001b[37m\u001b[0m \u001b[1m6s\u001b[0m 19ms/step - accuracy: 0.8773 - loss: 0.3251 - val_accuracy: 0.8514 - val_loss: 0.3768\n",
            "Epoch 27/50\n",
            "\u001b[1m193/193\u001b[0m \u001b[32m━━━━━━━━━━━━━━━━━━━━\u001b[0m\u001b[37m\u001b[0m \u001b[1m4s\u001b[0m 14ms/step - accuracy: 0.8930 - loss: 0.2872 - val_accuracy: 0.8638 - val_loss: 0.3569\n",
            "Epoch 28/50\n",
            "\u001b[1m193/193\u001b[0m \u001b[32m━━━━━━━━━━━━━━━━━━━━\u001b[0m\u001b[37m\u001b[0m \u001b[1m6s\u001b[0m 17ms/step - accuracy: 0.8928 - loss: 0.2809 - val_accuracy: 0.8586 - val_loss: 0.3583\n",
            "Epoch 29/50\n",
            "\u001b[1m193/193\u001b[0m \u001b[32m━━━━━━━━━━━━━━━━━━━━\u001b[0m\u001b[37m\u001b[0m \u001b[1m4s\u001b[0m 19ms/step - accuracy: 0.8961 - loss: 0.2801 - val_accuracy: 0.8506 - val_loss: 0.3787\n",
            "Epoch 30/50\n",
            "\u001b[1m193/193\u001b[0m \u001b[32m━━━━━━━━━━━━━━━━━━━━\u001b[0m\u001b[37m\u001b[0m \u001b[1m3s\u001b[0m 14ms/step - accuracy: 0.9023 - loss: 0.2628 - val_accuracy: 0.8571 - val_loss: 0.3756\n",
            "Epoch 31/50\n",
            "\u001b[1m193/193\u001b[0m \u001b[32m━━━━━━━━━━━━━━━━━━━━\u001b[0m\u001b[37m\u001b[0m \u001b[1m3s\u001b[0m 15ms/step - accuracy: 0.9028 - loss: 0.2579 - val_accuracy: 0.8684 - val_loss: 0.3433\n",
            "Epoch 32/50\n",
            "\u001b[1m193/193\u001b[0m \u001b[32m━━━━━━━━━━━━━━━━━━━━\u001b[0m\u001b[37m\u001b[0m \u001b[1m5s\u001b[0m 15ms/step - accuracy: 0.9013 - loss: 0.2617 - val_accuracy: 0.8670 - val_loss: 0.3494\n",
            "Epoch 33/50\n",
            "\u001b[1m193/193\u001b[0m \u001b[32m━━━━━━━━━━━━━━━━━━━━\u001b[0m\u001b[37m\u001b[0m \u001b[1m5s\u001b[0m 13ms/step - accuracy: 0.9051 - loss: 0.2515 - val_accuracy: 0.8679 - val_loss: 0.3407\n",
            "Epoch 34/50\n",
            "\u001b[1m193/193\u001b[0m \u001b[32m━━━━━━━━━━━━━━━━━━━━\u001b[0m\u001b[37m\u001b[0m \u001b[1m5s\u001b[0m 14ms/step - accuracy: 0.8993 - loss: 0.2697 - val_accuracy: 0.8688 - val_loss: 0.3400\n",
            "Epoch 35/50\n",
            "\u001b[1m193/193\u001b[0m \u001b[32m━━━━━━━━━━━━━━━━━━━━\u001b[0m\u001b[37m\u001b[0m \u001b[1m3s\u001b[0m 17ms/step - accuracy: 0.9037 - loss: 0.2605 - val_accuracy: 0.8108 - val_loss: 0.4924\n",
            "Epoch 36/50\n",
            "\u001b[1m193/193\u001b[0m \u001b[32m━━━━━━━━━━━━━━━━━━━━\u001b[0m\u001b[37m\u001b[0m \u001b[1m3s\u001b[0m 15ms/step - accuracy: 0.9024 - loss: 0.2623 - val_accuracy: 0.8587 - val_loss: 0.3618\n",
            "Epoch 37/50\n",
            "\u001b[1m193/193\u001b[0m \u001b[32m━━━━━━━━━━━━━━━━━━━━\u001b[0m\u001b[37m\u001b[0m \u001b[1m5s\u001b[0m 14ms/step - accuracy: 0.9105 - loss: 0.2332 - val_accuracy: 0.8656 - val_loss: 0.3571\n",
            "Epoch 38/50\n",
            "\u001b[1m193/193\u001b[0m \u001b[32m━━━━━━━━━━━━━━━━━━━━\u001b[0m\u001b[37m\u001b[0m \u001b[1m3s\u001b[0m 14ms/step - accuracy: 0.9072 - loss: 0.2405 - val_accuracy: 0.8670 - val_loss: 0.3475\n",
            "Epoch 39/50\n",
            "\u001b[1m193/193\u001b[0m \u001b[32m━━━━━━━━━━━━━━━━━━━━\u001b[0m\u001b[37m\u001b[0m \u001b[1m5s\u001b[0m 13ms/step - accuracy: 0.9125 - loss: 0.2356 - val_accuracy: 0.8652 - val_loss: 0.3485\n"
          ]
        }
      ]
    },
    {
      "cell_type": "markdown",
      "source": [
        "**✅ STEP 5: Evaluate the Model**"
      ],
      "metadata": {
        "id": "TT6wxnnPh20e"
      }
    },
    {
      "cell_type": "code",
      "source": [
        "# --- Evaluate Model ---\n",
        "val_preds = model.predict(X_test)\n",
        "val_preds_labels = np.argmax(val_preds, axis=1)\n",
        "\n",
        "print(\"Classification Report:\\n\")\n",
        "print(classification_report(y_test, val_preds_labels, target_names=label_encoder.classes_))"
      ],
      "metadata": {
        "id": "yTXu_cXJh40j",
        "colab": {
          "base_uri": "https://localhost:8080/"
        },
        "outputId": "ff2447bd-3e5a-4220-873b-c1acb6cc9869"
      },
      "execution_count": null,
      "outputs": [
        {
          "output_type": "stream",
          "name": "stdout",
          "text": [
            "\u001b[1m386/386\u001b[0m \u001b[32m━━━━━━━━━━━━━━━━━━━━\u001b[0m\u001b[37m\u001b[0m \u001b[1m1s\u001b[0m 1ms/step\n",
            "Classification Report:\n",
            "\n",
            "              precision    recall  f1-score   support\n",
            "\n",
            "    Negative       0.85      0.92      0.88      4509\n",
            "     Neutral       0.91      0.80      0.85      3664\n",
            "    Positive       0.87      0.87      0.87      4166\n",
            "\n",
            "    accuracy                           0.87     12339\n",
            "   macro avg       0.87      0.86      0.87     12339\n",
            "weighted avg       0.87      0.87      0.87     12339\n",
            "\n"
          ]
        }
      ]
    },
    {
      "cell_type": "code",
      "source": [
        "# --- Plot Training History ---\n",
        "plt.plot(history.history['loss'], label='Train Loss')\n",
        "plt.plot(history.history['val_loss'], label='Validation Loss')\n",
        "plt.title(\"Loss Over Epochs\")\n",
        "plt.xlabel(\"Epoch\")\n",
        "plt.ylabel(\"Loss\")\n",
        "plt.legend()\n",
        "plt.grid(True)\n",
        "plt.show()\n"
      ],
      "metadata": {
        "colab": {
          "base_uri": "https://localhost:8080/",
          "height": 472
        },
        "id": "fOcVYGgs3Mst",
        "outputId": "b3ec3ce6-893f-42b2-d8f1-d800f269ed61"
      },
      "execution_count": null,
      "outputs": [
        {
          "output_type": "display_data",
          "data": {
            "text/plain": [
              "<Figure size 640x480 with 1 Axes>"
            ],
            "image/png": "[encoded data removed]"
          },
          "metadata": {}
        }
      ]
    },
    {
      "cell_type": "markdown",
      "source": [
        "**✅ STEP 6: Fine-tuning and Optimization**"
      ],
      "metadata": {
        "id": "VxwZHZ26LLbR"
      }
    },
    {
      "cell_type": "code",
      "source": [
        "# Alternative optimizer\n",
        "optimizer = tf.keras.optimizers.Adam(learning_rate=0.001, clipnorm=1.0)\n",
        "model.compile(loss='sparse_categorical_crossentropy', optimizer=optimizer, metrics=['accuracy'])"
      ],
      "metadata": {
        "id": "pfvIW5KD0S2F"
      },
      "execution_count": null,
      "outputs": []
    },
    {
      "cell_type": "code",
      "source": [
        "# --- Train Model with EarlyStopping ---\n",
        "early_stop = EarlyStopping(monitor='val_loss', patience=3, restore_best_weights=True)\n",
        "\n",
        "# Train\n",
        "history = model.fit(\n",
        "    X_train, y_train,\n",
        "    validation_split=0.1,\n",
        "    epochs=50,\n",
        "    batch_size=128,\n",
        "    callbacks=[early_stop],\n",
        "    verbose=2\n",
        ")"
      ],
      "metadata": {
        "colab": {
          "base_uri": "https://localhost:8080/"
        },
        "id": "PNBqbEtK05wl",
        "outputId": "f1141b3a-9d87-424e-c029-b1163a7d5c45"
      },
      "execution_count": null,
      "outputs": [
        {
          "output_type": "stream",
          "name": "stdout",
          "text": [
            "Epoch 1/50\n",
            "348/348 - 5s - 16ms/step - accuracy: 0.8992 - loss: 0.2680 - val_accuracy: 0.8957 - val_loss: 0.2620\n",
            "Epoch 2/50\n",
            "348/348 - 5s - 16ms/step - accuracy: 0.8995 - loss: 0.2650 - val_accuracy: 0.8955 - val_loss: 0.2574\n",
            "Epoch 3/50\n",
            "348/348 - 5s - 14ms/step - accuracy: 0.9055 - loss: 0.2540 - val_accuracy: 0.9084 - val_loss: 0.2230\n",
            "Epoch 4/50\n",
            "348/348 - 5s - 14ms/step - accuracy: 0.9068 - loss: 0.2465 - val_accuracy: 0.9068 - val_loss: 0.2400\n",
            "Epoch 5/50\n",
            "348/348 - 4s - 11ms/step - accuracy: 0.9064 - loss: 0.2480 - val_accuracy: 0.8630 - val_loss: 0.3687\n",
            "Epoch 6/50\n",
            "348/348 - 4s - 11ms/step - accuracy: 0.9072 - loss: 0.2475 - val_accuracy: 0.8537 - val_loss: 0.3643\n"
          ]
        }
      ]
    },
    {
      "cell_type": "code",
      "source": [
        "# --- Evaluate Model ---\n",
        "val_preds = model.predict(X_test)\n",
        "val_preds_labels = np.argmax(val_preds, axis=1)\n",
        "\n",
        "print(\"Classification Report:\\n\")\n",
        "print(classification_report(y_test, val_preds_labels, target_names=label_encoder.classes_))"
      ],
      "metadata": {
        "colab": {
          "base_uri": "https://localhost:8080/"
        },
        "id": "8ER6-Ed91oQR",
        "outputId": "abcc66d6-fab0-4879-fea6-66e1494cf649"
      },
      "execution_count": null,
      "outputs": [
        {
          "output_type": "stream",
          "name": "stdout",
          "text": [
            "\u001b[1m386/386\u001b[0m \u001b[32m━━━━━━━━━━━━━━━━━━━━\u001b[0m\u001b[37m\u001b[0m \u001b[1m1s\u001b[0m 2ms/step\n",
            "Classification Report:\n",
            "\n",
            "              precision    recall  f1-score   support\n",
            "\n",
            "    Negative       0.93      0.84      0.88      4509\n",
            "     Neutral       0.76      0.92      0.83      3664\n",
            "    Positive       0.91      0.84      0.87      4166\n",
            "\n",
            "    accuracy                           0.86     12339\n",
            "   macro avg       0.87      0.86      0.86     12339\n",
            "weighted avg       0.87      0.86      0.86     12339\n",
            "\n"
          ]
        }
      ]
    },
    {
      "cell_type": "code",
      "source": [
        "# --- Plot Training History ---\n",
        "plt.plot(history.history['loss'], label='Train Loss')\n",
        "plt.plot(history.history['val_loss'], label='Validation Loss')\n",
        "plt.title(\"Loss Over Epochs\")\n",
        "plt.xlabel(\"Epoch\")\n",
        "plt.ylabel(\"Loss\")\n",
        "plt.legend()\n",
        "plt.grid(True)\n",
        "plt.show()\n"
      ],
      "metadata": {
        "colab": {
          "base_uri": "https://localhost:8080/",
          "height": 472
        },
        "id": "6l4z8T5v1kkx",
        "outputId": "86987ec6-cc30-490c-e32f-49dbd37742cc"
      },
      "execution_count": null,
      "outputs": [
        {
          "output_type": "display_data",
          "data": {
            "text/plain": [
              "<Figure size 640x480 with 1 Axes>"
            ],
            "image/png": "[encoded data removed]"
          },
          "metadata": {}
        }
      ]
    },
    {
      "cell_type": "code",
      "source": [
        "# --- Evaluate Model ---\n",
        "val_preds = model.predict(X_test)\n",
        "val_preds_labels = np.argmax(val_preds, axis=1)\n",
        "\n",
        "print(\"Classification Report:\\n\")\n",
        "print(classification_report(y_test, val_preds_labels, target_names=label_encoder.classes_))"
      ],
      "metadata": {
        "colab": {
          "base_uri": "https://localhost:8080/"
        },
        "id": "Dn6eoozy1G7w",
        "outputId": "0a117f9a-572f-4b59-a5c6-95f1153c6c06"
      },
      "execution_count": null,
      "outputs": [
        {
          "output_type": "stream",
          "name": "stdout",
          "text": [
            "\u001b[1m386/386\u001b[0m \u001b[32m━━━━━━━━━━━━━━━━━━━━\u001b[0m\u001b[37m\u001b[0m \u001b[1m1s\u001b[0m 2ms/step\n",
            "Classification Report:\n",
            "\n",
            "              precision    recall  f1-score   support\n",
            "\n",
            "    Negative       0.93      0.84      0.88      4509\n",
            "     Neutral       0.76      0.92      0.83      3664\n",
            "    Positive       0.91      0.84      0.87      4166\n",
            "\n",
            "    accuracy                           0.86     12339\n",
            "   macro avg       0.87      0.86      0.86     12339\n",
            "weighted avg       0.87      0.86      0.86     12339\n",
            "\n"
          ]
        }
      ]
    }
  ]
}